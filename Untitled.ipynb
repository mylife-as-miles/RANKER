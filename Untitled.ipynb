{
 "cells": [
  {
   "cell_type": "code",
   "execution_count": null,
   "id": "1e535522-d0bd-453c-98f3-151ce458510f",
   "metadata": {},
   "outputs": [],
   "source": [
    "# Install Selenium (in case it's not already installed)\n",
    "!pip install selenium"
   ]
  },
  {
   "cell_type": "code",
   "execution_count": null,
   "id": "25d37932-7cd7-4d14-abe0-319d2fae3682",
   "metadata": {},
   "outputs": [],
   "source": [
    "# Install Chrome\n",
    "!apt-get update\n",
    "!apt-get install -y chromium-browser\n",
    "\n",
    "# Install ChromeDriver\n",
    "!apt-get install -y chromium-chromedriver"
   ]
  },
  {
   "cell_type": "code",
   "execution_count": null,
   "id": "12d1c7bc-be50-4c8a-9b08-de854e6d8036",
   "metadata": {},
   "outputs": [],
   "source": [
    "# Import necessary libraries\n",
    "from selenium import webdriver\n",
    "from selenium.webdriver.common.keys import Keys\n",
    "from selenium.webdriver.common.by import By\n",
    "import time\n",
    "import random"
   ]
  },
  {
   "cell_type": "code",
   "execution_count": null,
   "id": "1e334126-db8b-4555-a2da-71f6a0d39e7d",
   "metadata": {},
   "outputs": [],
   "source": [
    "# Set up Chrome options\n",
    "chrome_options = webdriver.ChromeOptions()\n",
    "chrome_options.add_argument('--headless')  # Run in headless mode (no UI)\n",
    "chrome_options.add_argument('--no-sandbox')\n",
    "chrome_options.add_argument('--disable-dev-shm-usage')\n",
    "\n",
    "# Function to open browser, visit URL, and simulate views with random durations\n",
    "def simulate_views(url, no_of_views, min_duration, max_duration):\n",
    "    for i in range(no_of_views):\n",
    "        # Initialize the browser with Chrome options\n",
    "        browser = webdriver.Chrome(options=chrome_options)\n",
    "        browser.get(url)\n",
    "\n",
    "        # Simulate pressing SPACE (optional, if required for interaction)\n",
    "        browser.find_element(By.TAG_NAME, 'body').send_keys(Keys.SPACE)\n",
    "\n",
    "        # Generate a random duration between min_duration and max_duration\n",
    "        duration = random.uniform(min_duration, max_duration)\n",
    "\n",
    "        # Wait for the random duration\n",
    "        time.sleep(duration)\n",
    "\n",
    "        print(f\"Iteration {i + 1}: Slept for {duration:.2f} seconds\")\n",
    "\n",
    "        # Close the browser\n",
    "        browser.quit()"
   ]
  },
  {
   "cell_type": "code",
   "execution_count": 1,
   "id": "5740bf3d-9835-4377-8fad-a6822f53224e",
   "metadata": {},
   "outputs": [
    {
     "ename": "NameError",
     "evalue": "name 'simulate_views' is not defined",
     "output_type": "error",
     "traceback": [
      "\u001b[0;31m---------------------------------------------------------------------------\u001b[0m",
      "\u001b[0;31mNameError\u001b[0m                                 Traceback (most recent call last)",
      "Cell \u001b[0;32mIn[1], line 8\u001b[0m\n\u001b[1;32m      5\u001b[0m max_duration \u001b[38;5;241m=\u001b[39m \u001b[38;5;241m10\u001b[39m  \u001b[38;5;66;03m# Setq a maximum duration of 10 seconds\u001b[39;00m\n\u001b[1;32m      7\u001b[0m \u001b[38;5;66;03m# Call the function\u001b[39;00m\n\u001b[0;32m----> 8\u001b[0m \u001b[43msimulate_views\u001b[49m(url, no_of_views, min_duration, max_duration)\n",
      "\u001b[0;31mNameError\u001b[0m: name 'simulate_views' is not defined"
     ]
    }
   ],
   "source": [
    "# Hardcoded parameters\n",
    "url = \"https://medibang.com/mpc/episodes/sb2412252117006130026909136/\"\n",
    "no_of_views = 500\n",
    "min_duration = 0  # Set a minimum duration of 5 seconds\n",
    "max_duration = 1  # Setq a maximum duration of 10 seconds\n",
    "\n",
    "# Call the function\n",
    "simulate_views(url, no_of_views, min_duration, max_duration)"
   ]
  },
  {
   "cell_type": "code",
   "execution_count": null,
   "id": "b8480483-7d91-4660-b69f-523943a67921",
   "metadata": {},
   "outputs": [],
   "source": []
  },
  {
   "cell_type": "code",
   "execution_count": null,
   "id": "1a0265e2-fba1-40f9-b7ec-22b40b7b0e89",
   "metadata": {},
   "outputs": [],
   "source": []
  },
  {
   "cell_type": "code",
   "execution_count": null,
   "id": "4c207803-f902-4ff2-8595-75964eb3a2f0",
   "metadata": {},
   "outputs": [],
   "source": []
  },
  {
   "cell_type": "code",
   "execution_count": null,
   "id": "68be0ebe-1414-4bbb-a8a6-bfafa5fc60a3",
   "metadata": {},
   "outputs": [],
   "source": []
  }
 ],
 "metadata": {
  "kernelspec": {
   "display_name": "Python 3 (ipykernel)",
   "language": "python",
   "name": "python3"
  },
  "language_info": {
   "codemirror_mode": {
    "name": "ipython",
    "version": 3
   },
   "file_extension": ".py",
   "mimetype": "text/x-python",
   "name": "python",
   "nbconvert_exporter": "python",
   "pygments_lexer": "ipython3",
   "version": "3.12.1"
  }
 },
 "nbformat": 4,
 "nbformat_minor": 5
}
